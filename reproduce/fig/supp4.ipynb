{
 "cells": [
  {
   "cell_type": "code",
   "execution_count": 35,
   "id": "necessary-queen",
   "metadata": {},
   "outputs": [],
   "source": [
    "%matplotlib inline\n",
    "import matplotlib.pyplot as plt\n",
    "import pandas as pd\n",
    "import numpy as np\n",
    "import matplotlib as mpl\n",
    "import pickle\n",
    "import itertools"
   ]
  },
  {
   "cell_type": "code",
   "execution_count": 36,
   "id": "opened-prairie",
   "metadata": {},
   "outputs": [],
   "source": [
    "import tensorflow as tf\n",
    "import tensorflow.keras as keras\n",
    "from tensorflow.keras import layers"
   ]
  },
  {
   "cell_type": "code",
   "execution_count": 37,
   "id": "ancient-windows",
   "metadata": {},
   "outputs": [],
   "source": [
    "mpl.rcParams['pdf.fonttype'] = 42\n",
    "mpl.rcParams['ps.fonttype'] = 42\n",
    "mpl.rcParams['font.family'] = 'Arial'"
   ]
  },
  {
   "cell_type": "code",
   "execution_count": 38,
   "id": "floral-labor",
   "metadata": {},
   "outputs": [],
   "source": [
    "def seperateCNN():\n",
    "    input1 = keras.Input(shape=(10, 12, 1))\n",
    "    input2 = keras.Input(shape=(46, 12, 1))\n",
    "\n",
    "    x = layers.Conv2D(filters=16, kernel_size=(2, 12))(input1)  # 9\n",
    "    x = layers.BatchNormalization()(x)\n",
    "    x = keras.activations.relu(x)\n",
    "    x = layers.Conv2D(filters=32, kernel_size=(2, 1))(x)    # 8\n",
    "    x = layers.BatchNormalization()(x)\n",
    "    x = keras.activations.relu(x)\n",
    "    x = layers.MaxPool2D(pool_size=(2, 1), strides=(2, 1))(x)  # 4\n",
    "    x = layers.Flatten()(x)\n",
    "    x = keras.Model(inputs=input1, outputs=x)\n",
    "\n",
    "    y = layers.Conv2D(filters=16, kernel_size=(15, 12))(input2)     # 32\n",
    "    y = layers.BatchNormalization()(y)\n",
    "    y = keras.activations.relu(y)\n",
    "    y = layers.MaxPool2D(pool_size=(2, 1), strides=(2, 1))(y)  # 16\n",
    "    y = layers.Conv2D(filters=32,kernel_size=(9,1))(y)    # 8\n",
    "    y = layers.BatchNormalization()(y)\n",
    "    y = keras.activations.relu(y)\n",
    "    y = layers.MaxPool2D(pool_size=(2, 1),strides=(2,1))(y)  # 4\n",
    "    y = layers.Flatten()(y)\n",
    "    y = keras.Model(inputs=input2,outputs=y)\n",
    "\n",
    "    combined = layers.concatenate([x.output,y.output])\n",
    "    z = layers.Dense(128,activation='relu')(combined)\n",
    "    z = layers.Dropout(0.2)(z)\n",
    "    z = layers.Dense(1,activation='sigmoid')(z)\n",
    "\n",
    "    model = keras.Model(inputs=[input1,input2],outputs=z)\n",
    "    return model\n",
    "\n",
    "def pull_peptide_aaindex(dataset):\n",
    "    result = np.empty([len(dataset),10,12,1])\n",
    "    for i in range(len(dataset)):\n",
    "        result[i,:,:,:] = dataset[i][0]\n",
    "    return result\n",
    "\n",
    "\n",
    "def pull_hla_aaindex(dataset):\n",
    "    result = np.empty([len(dataset),46,12,1])\n",
    "    for i in range(len(dataset)):\n",
    "        result[i,:,:,:] = dataset[i][1]\n",
    "    return result\n",
    "\n",
    "\n",
    "def pull_label_aaindex(dataset):\n",
    "    col = [item[2] for item in dataset]\n",
    "    result = [0 if item == 'Negative' else 1 for item in col]\n",
    "    result = np.expand_dims(np.array(result),axis=1)\n",
    "    return result\n",
    "\n",
    "def pull_label_aaindex(dataset):\n",
    "    result = np.empty([len(dataset),1])\n",
    "    for i in range(len(dataset)):\n",
    "        result[i,:] = dataset[i][2]\n",
    "    return result\n",
    "\n",
    "def aaindex(peptide,after_pca):\n",
    "\n",
    "    amino = 'ARNDCQEGHILKMFPSTWYV-'\n",
    "    matrix = np.transpose(after_pca)   # [12,21]\n",
    "    encoded = np.empty([len(peptide), 12])  # (seq_len,12)\n",
    "    for i in range(len(peptide)):\n",
    "        query = peptide[i]\n",
    "        if query == 'X': query = '-'\n",
    "        query = query.upper()\n",
    "        encoded[i, :] = matrix[:, amino.index(query)]\n",
    "\n",
    "    return encoded\n",
    "\n",
    "def peptide_data_aaindex(peptide,after_pca):   # return numpy array [10,12,1]\n",
    "    length = len(peptide)\n",
    "    if length == 10:\n",
    "        encode = aaindex(peptide,after_pca)\n",
    "    elif length == 9:\n",
    "        peptide = peptide[:5] + '-' + peptide[5:]\n",
    "        encode = aaindex(peptide,after_pca)\n",
    "    encode = encode.reshape(encode.shape[0], encode.shape[1], -1)\n",
    "    return encode\n",
    "\n",
    "def dict_inventory(inventory):\n",
    "    dicA, dicB, dicC = {}, {}, {}\n",
    "    dic = {'A': dicA, 'B': dicB, 'C': dicC}\n",
    "\n",
    "    for hla in inventory:\n",
    "        type_ = hla[4]  # A,B,C\n",
    "        first2 = hla[6:8]  # 01\n",
    "        last2 = hla[8:]  # 01\n",
    "        try:\n",
    "            dic[type_][first2].append(last2)\n",
    "        except KeyError:\n",
    "            dic[type_][first2] = []\n",
    "            dic[type_][first2].append(last2)\n",
    "\n",
    "    return dic\n",
    "\n",
    "\n",
    "def rescue_unknown_hla(hla, dic_inventory):\n",
    "    type_ = hla[4]\n",
    "    first2 = hla[6:8]\n",
    "    last2 = hla[8:]\n",
    "    big_category = dic_inventory[type_]\n",
    "    #print(hla)\n",
    "    if not big_category.get(first2) == None:\n",
    "        small_category = big_category.get(first2)\n",
    "        distance = [abs(int(last2) - int(i)) for i in small_category]\n",
    "        optimal = min(zip(small_category, distance), key=lambda x: x[1])[0]\n",
    "        return 'HLA-' + str(type_) + '*' + str(first2) + str(optimal)\n",
    "    else:\n",
    "        small_category = list(big_category.keys())\n",
    "        distance = [abs(int(first2) - int(i)) for i in small_category]\n",
    "        optimal = min(zip(small_category, distance), key=lambda x: x[1])[0]\n",
    "        return 'HLA-' + str(type_) + '*' + str(optimal) + str(big_category[optimal][0])\n",
    "\n",
    "\n",
    "\n",
    "\n",
    "\n",
    "\n",
    "def hla_data_aaindex(hla_dic,hla_type,after_pca):    # return numpy array [34,12,1]\n",
    "    try:\n",
    "        seq = hla_dic[hla_type]\n",
    "    except KeyError:\n",
    "        hla_type = rescue_unknown_hla(hla_type,dic_inventory)\n",
    "        seq = hla_dic[hla_type]\n",
    "    encode = aaindex(seq,after_pca)\n",
    "    encode = encode.reshape(encode.shape[0], encode.shape[1], -1)\n",
    "    return encode\n",
    "\n",
    "def construct_aaindex(ori,hla_dic,after_pca):\n",
    "    series = []\n",
    "    for i in range(ori.shape[0]):\n",
    "        peptide = ori['peptide'].iloc[i]\n",
    "        hla_type = ori['HLA'].iloc[i]\n",
    "        immuno = np.array(ori['immunogenicity'].iloc[i]).reshape(1,-1)   # [1,1]\n",
    "\n",
    "        encode_pep = peptide_data_aaindex(peptide,after_pca)    # [10,12]\n",
    "\n",
    "        encode_hla = hla_data_aaindex(hla_dic,hla_type,after_pca)   # [46,12]\n",
    "        series.append((encode_pep, encode_hla, immuno))\n",
    "    return series\n",
    "\n",
    "def hla_df_to_dic(hla):\n",
    "    dic = {}\n",
    "    for i in range(hla.shape[0]):\n",
    "        col1 = hla['HLA'].iloc[i]  # HLA allele\n",
    "        col2 = hla['pseudo'].iloc[i]  # pseudo sequence\n",
    "        dic[col1] = col2\n",
    "    return dic\n",
    "\n",
    "def retain_910(ori):\n",
    "    cond = []\n",
    "    for i in range(ori.shape[0]):\n",
    "        peptide = ori['peptide'].iloc[i]\n",
    "        if len(peptide) == 9 or len(peptide) == 10:\n",
    "            cond.append(True)\n",
    "        else:\n",
    "            cond.append(False)\n",
    "    data = ori.loc[cond]\n",
    "    data = data.set_index(pd.Index(np.arange(data.shape[0])))\n",
    "    return data\n"
   ]
  },
  {
   "cell_type": "code",
   "execution_count": 39,
   "id": "affecting-momentum",
   "metadata": {},
   "outputs": [],
   "source": [
    "def read_fasta_and_chop_to_N(path,N):\n",
    "    with open(path,'r') as f:\n",
    "        lis = f.readlines()[1:]\n",
    "    lis = [raw.rstrip('\\n') for raw in lis]\n",
    "    seq = ''.join(lis)\n",
    "    bucket = []\n",
    "    for i in range(0,len(seq)-N+1,1):\n",
    "        frag = seq[i:i+N]\n",
    "        bucket.append(frag)\n",
    "    return seq,bucket"
   ]
  },
  {
   "cell_type": "code",
   "execution_count": 40,
   "id": "taken-polyester",
   "metadata": {},
   "outputs": [],
   "source": [
    "def set_query_df(frag):\n",
    "    from itertools import product\n",
    "    hla = ['HLA-A*0101','HLA-A*0201','HLA-A*0301','HLA-A*1101','HLA-A*2402','HLA-B*0702','HLA-B*0801','HLA-B*1501','HLA-B*4001','HLA-C*0702']\n",
    "    combine = list(product(frag,hla))\n",
    "    col1 = [item[0] for item in combine]  # peptide\n",
    "    col2 = [item[1] for item in combine]  # hla\n",
    "    col3 = [0 for item in combine]   # immunogenicity\n",
    "    df = pd.DataFrame({'peptide':col1,'HLA':col2,'immunogenicity':col3})\n",
    "    return df"
   ]
  },
  {
   "cell_type": "code",
   "execution_count": 41,
   "id": "junior-wales",
   "metadata": {},
   "outputs": [],
   "source": [
    "def get_score(ori):\n",
    "    dataset = construct_aaindex(ori,hla_dic,after_pca)\n",
    "    input1 = pull_peptide_aaindex(dataset)\n",
    "    input2 = pull_hla_aaindex(dataset)\n",
    "\n",
    "\n",
    "    result = cnn_model.predict([input1,input2])\n",
    "    ori['result'] = result[:,0]\n",
    "    return ori"
   ]
  },
  {
   "cell_type": "code",
   "execution_count": 42,
   "id": "indoor-sterling",
   "metadata": {},
   "outputs": [],
   "source": [
    "def prepare_plot_each_region(score_df,count,h=10):  # how many hla you query\n",
    "    from itertools import repeat\n",
    "    # x coordinate\n",
    "    x = []\n",
    "    for i in range(count):\n",
    "        x.extend(list(repeat(i,h)))\n",
    "    # y coordinate\n",
    "    y = score_df['result'].values\n",
    "    # color coordiate\n",
    "    tmp = list(repeat([0,1,2,3,4,5,6,7,8,9],count))\n",
    "    c = [j for i in tmp for j in i]\n",
    "#     # plot\n",
    "#     fig,ax = plt.subplots()\n",
    "#     ax.scatter(x=x,y=y,c=c,cmap='tab10',alpha=1,s=5)\n",
    "#     plt.show()\n",
    "    return x,y,c"
   ]
  },
  {
   "cell_type": "code",
   "execution_count": 43,
   "id": "intimate-batch",
   "metadata": {},
   "outputs": [],
   "source": [
    "def prepare_plot_each_region_mean(score_df,count,h=10):\n",
    "    lis = np.split(score_df['result'].values,count)\n",
    "    y = np.array([item.mean() for item in lis])\n",
    "#     fig,ax = plt.subplots()\n",
    "#     ax.bar(x=np.arange(count),height=y)\n",
    "#     plt.show()\n",
    "    return y"
   ]
  },
  {
   "cell_type": "code",
   "execution_count": 44,
   "id": "mysterious-copying",
   "metadata": {},
   "outputs": [],
   "source": [
    "def wrapper(frag,count):\n",
    "    orf_score_df = set_query_df(frag)\n",
    "    orf_score_df = get_score(orf_score_df)\n",
    "    x,y,c = prepare_plot_each_region(orf_score_df,count)\n",
    "    y = prepare_plot_each_region_mean(orf_score_df,count)\n",
    "    return y"
   ]
  },
  {
   "cell_type": "code",
   "execution_count": 45,
   "id": "allied-analyst",
   "metadata": {},
   "outputs": [
    {
     "data": {
      "text/plain": [
       "'\\norf1ab: polypeptide, nsp, replicase..., length 7096, 9mer: 7088, 10mer: 7087\\norf2: spike, length 1273, 9mer: 1265, 10mer: 1264\\norf3a: accessory, length 275, 9mer: 267, 10mer: 266\\norf4: envelope, length 75, 9mer: 67, 10mer: 66\\norf5: membrane, length 222, 9mer: 214, 10mer: 213\\norf6: accessory, length 61, 9mer: 53, 10mer: 52\\norf7a: accessory, length 121, 9mer 113, 10mer: 112\\norf7b: accessory, length 43, 9mer 35   (missing in nature immunology paper), 10mer: 34\\norf8: accessory, length 121, 9mer 113, 10mer: 112\\norf9: nucleocapside glycoprotein, length 419, 9mer 411, 10mer 410\\norf10: accessory, length 38, 9mer: 30, 10mer: 29\\n'"
      ]
     },
     "execution_count": 45,
     "metadata": {},
     "output_type": "execute_result"
    }
   ],
   "source": [
    "'''\n",
    "orf1ab: polypeptide, nsp, replicase..., length 7096, 9mer: 7088, 10mer: 7087\n",
    "orf2: spike, length 1273, 9mer: 1265, 10mer: 1264\n",
    "orf3a: accessory, length 275, 9mer: 267, 10mer: 266\n",
    "orf4: envelope, length 75, 9mer: 67, 10mer: 66\n",
    "orf5: membrane, length 222, 9mer: 214, 10mer: 213\n",
    "orf6: accessory, length 61, 9mer: 53, 10mer: 52\n",
    "orf7a: accessory, length 121, 9mer 113, 10mer: 112\n",
    "orf7b: accessory, length 43, 9mer 35   (missing in nature immunology paper), 10mer: 34\n",
    "orf8: accessory, length 121, 9mer 113, 10mer: 112\n",
    "orf9: nucleocapside glycoprotein, length 419, 9mer 411, 10mer 410\n",
    "orf10: accessory, length 38, 9mer: 30, 10mer: 29\n",
    "'''"
   ]
  },
  {
   "cell_type": "code",
   "execution_count": 46,
   "id": "exciting-alfred",
   "metadata": {},
   "outputs": [],
   "source": [
    "# set up the model and necessaray files for getting score of each SARS-CoV-2 region\n",
    "cnn_model = seperateCNN()\n",
    "cnn_model.load_weights('../data/models/cnn_model_331_3_7/')\n",
    "after_pca = np.loadtxt('../data/after_pca.txt')\n",
    "hla = pd.read_csv('../data/hla2paratopeTable_aligned.txt',sep='\\t')\n",
    "hla_dic = hla_df_to_dic(hla)\n",
    "inventory = list(hla_dic.keys())\n",
    "dic_inventory = dict_inventory(inventory)"
   ]
  },
  {
   "cell_type": "code",
   "execution_count": 47,
   "id": "lesbian-kansas",
   "metadata": {},
   "outputs": [],
   "source": [
    "# first consider 9-mer\n",
    "orf1ab_seq,orf1ab_frag = read_fasta_and_chop_to_N('../data/covid/ORF1ab.fa',9)\n",
    "orf2_seq, orf2_frag = read_fasta_and_chop_to_N('../data/covid/ORF2-spike.fa', 9)\n",
    "orf3a_seq, orf3a_frag = read_fasta_and_chop_to_N('../data/covid/ORF3a-accessory.fa', 9)\n",
    "orf4, orf4_frag = read_fasta_and_chop_to_N('../data/covid/ORF4-env.fa', 9)\n",
    "orf5, orf5_frag = read_fasta_and_chop_to_N('../data/covid/ORF5-mem.fa', 9)\n",
    "orf6, orf6_frag = read_fasta_and_chop_to_N('../data/covid/ORF6-accessory.fa', 9)\n",
    "orf7a, orf7a_frag = read_fasta_and_chop_to_N('../data/covid/ORF7a-accessory.fa', 9)\n",
    "orf7b,orf7b_frag = read_fasta_and_chop_to_N('../data/covid/ORF7b-accessory.fa', 9)\n",
    "orf8,orf8_frag = read_fasta_and_chop_to_N('../data/covid/ORF8-accessory.fa', 9)\n",
    "orf9,orf9_frag = read_fasta_and_chop_to_N('../data/covid/ORF9-nuc.fa', 9)\n",
    "orf10,orf10_frag = read_fasta_and_chop_to_N('../data/covid/ORF10-accessory.fa', 9)\n",
    "\n",
    "y1 = wrapper(orf1ab_frag,7088)\n",
    "y2 = wrapper(orf2_frag,1265)\n",
    "y3 = wrapper(orf3a_frag,267)\n",
    "y4 = wrapper(orf4_frag,67)\n",
    "y5 = wrapper(orf5_frag,214)\n",
    "y6 = wrapper(orf6_frag,53)\n",
    "y7 = wrapper(orf7a_frag,113)\n",
    "y7b = wrapper(orf7b_frag,35)\n",
    "y8 = wrapper(orf8_frag,113)\n",
    "y9 = wrapper(orf9_frag,411)\n",
    "y10 = wrapper(orf10_frag,30)"
   ]
  },
  {
   "cell_type": "code",
   "execution_count": 48,
   "id": "preliminary-brush",
   "metadata": {},
   "outputs": [
    {
     "data": {
      "text/plain": [
       "Text(0, 0.5, 'Average immunogenicity score')"
      ]
     },
     "execution_count": 48,
     "metadata": {},
     "output_type": "execute_result"
    },
    {
     "data": {
      "image/png": "[encoded data removed]",
      "text/plain": [
       "<Figure size 432x288 with 1 Axes>"
      ]
     },
     "metadata": {
      "needs_background": "light"
     },
     "output_type": "display_data"
    }
   ],
   "source": [
    "fig,ax = plt.subplots()\n",
    "bp = ax.boxplot([y1,y2,y3,y4,y5,y6,y7,y8,y9,y10],positions=[0,1,2,3,4,5,6,7,8,9],patch_artist=True,widths=0.8)  # bp is a dictionary\n",
    "for box in bp['boxes']:   # box is matplotlib.lines.Line2d object\n",
    "    box.set(facecolor='#087E8B',alpha=0.6,linewidth=1)\n",
    "for whisker in bp['whiskers']:\n",
    "    whisker.set(linewidth=1)\n",
    "for median in bp['medians']:\n",
    "    median.set(color='black',linewidth=1)\n",
    "for flier in bp['fliers']:\n",
    "    flier.set(markersize=1.5)\n",
    "ax.set_xticks(np.arange(10))\n",
    "ax.set_xticklabels(['ORF1','ORF2','ORF3','ORF4','ORF5','ORF6','ORF7','ORF8','ORF9','ORF10'])\n",
    "ax.set_ylabel('Average immunogenicity score')"
   ]
  },
  {
   "cell_type": "code",
   "execution_count": 49,
   "id": "threatened-billion",
   "metadata": {},
   "outputs": [],
   "source": [
    "# let's inspect 10mer\n",
    "orf1ab_seq,orf1ab_frag = read_fasta_and_chop_to_N('../data/covid/ORF1ab.fa',10)\n",
    "orf2_seq, orf2_frag = read_fasta_and_chop_to_N('../data/covid/ORF2-spike.fa', 10)\n",
    "orf3a_seq, orf3a_frag = read_fasta_and_chop_to_N('../data/covid/ORF3a-accessory.fa', 10)\n",
    "orf4, orf4_frag = read_fasta_and_chop_to_N('../data/covid/ORF4-env.fa', 10)\n",
    "orf5, orf5_frag = read_fasta_and_chop_to_N('../data/covid/ORF5-mem.fa', 10)\n",
    "orf6, orf6_frag = read_fasta_and_chop_to_N('../data/covid/ORF6-accessory.fa', 10)\n",
    "orf7a, orf7a_frag = read_fasta_and_chop_to_N('../data/covid/ORF7a-accessory.fa', 10)\n",
    "orf7b,orf7b_frag = read_fasta_and_chop_to_N('../data/covid/ORF7b-accessory.fa', 10)\n",
    "orf8,orf8_frag = read_fasta_and_chop_to_N('../data/covid/ORF8-accessory.fa', 10)\n",
    "orf9,orf9_frag = read_fasta_and_chop_to_N('../data/covid/ORF9-nuc.fa', 10)\n",
    "orf10,orf10_frag = read_fasta_and_chop_to_N('../data/covid/ORF10-accessory.fa', 10)\n",
    "\n",
    "y1 = wrapper(orf1ab_frag,7087)\n",
    "y2 = wrapper(orf2_frag,1264)\n",
    "y3 = wrapper(orf3a_frag,266)\n",
    "y4 = wrapper(orf4_frag,66)\n",
    "y5 = wrapper(orf5_frag,213)\n",
    "y6 = wrapper(orf6_frag,52)\n",
    "y7a = wrapper(orf7a_frag,112)\n",
    "y7b = wrapper(orf7b_frag,34)\n",
    "y8 = wrapper(orf8_frag,112)\n",
    "y9 = wrapper(orf9_frag,410)\n",
    "y10 = wrapper(orf10_frag,29)"
   ]
  },
  {
   "cell_type": "code",
   "execution_count": 50,
   "id": "comparable-penguin",
   "metadata": {},
   "outputs": [
    {
     "data": {
      "text/plain": [
       "Text(0, 0.5, 'Average immunogenicity score')"
      ]
     },
     "execution_count": 50,
     "metadata": {},
     "output_type": "execute_result"
    },
    {
     "data": {
      "image/png": "[encoded data removed]",
      "text/plain": [
       "<Figure size 432x288 with 1 Axes>"
      ]
     },
     "metadata": {
      "needs_background": "light"
     },
     "output_type": "display_data"
    }
   ],
   "source": [
    "fig, ax = plt.subplots()\n",
    "bp = ax.boxplot([y1, y2, y3, y4, y5, y6, y7a, y8, y9, y10], positions=[0, 1, 2, 3, 4, 5, 6, 7, 8, 9],\n",
    "                patch_artist=True, widths=0.8)  # bp is a dictionary\n",
    "for box in bp['boxes']:  # box is matplotlib.lines.Line2d object\n",
    "    box.set(facecolor='#087E8B', alpha=0.6, linewidth=1)\n",
    "for whisker in bp['whiskers']:\n",
    "    whisker.set(linewidth=1)\n",
    "for median in bp['medians']:\n",
    "    median.set(color='black', linewidth=1)\n",
    "for flier in bp['fliers']:\n",
    "    flier.set(markersize=1.5)\n",
    "ax.set_xticks(np.arange(10))\n",
    "ax.set_xticklabels(['ORF1', 'ORF2', 'ORF3', 'ORF4', 'ORF5', 'ORF6', 'ORF7', 'ORF8', 'ORF9', 'ORF10'])\n",
    "ax.set_ylabel('Average immunogenicity score')"
   ]
  },
  {
   "cell_type": "code",
   "execution_count": null,
   "id": "restricted-guidance",
   "metadata": {},
   "outputs": [],
   "source": []
  }
 ],
 "metadata": {
  "kernelspec": {
   "display_name": "Python 3",
   "language": "python",
   "name": "python3"
  },
  "language_info": {
   "codemirror_mode": {
    "name": "ipython",
    "version": 3
   },
   "file_extension": ".py",
   "mimetype": "text/x-python",
   "name": "python",
   "nbconvert_exporter": "python",
   "pygments_lexer": "ipython3",
   "version": "3.6.11"
  }
 },
 "nbformat": 4,
 "nbformat_minor": 5
}
