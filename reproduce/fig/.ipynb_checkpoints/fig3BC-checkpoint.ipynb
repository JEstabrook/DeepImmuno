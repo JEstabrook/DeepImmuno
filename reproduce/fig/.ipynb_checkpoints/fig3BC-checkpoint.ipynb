{
 "cells": [
  {
   "cell_type": "code",
   "execution_count": 1,
   "id": "higher-stream",
   "metadata": {},
   "outputs": [],
   "source": [
    "%matplotlib inline\n",
    "import matplotlib.pyplot as plt\n",
    "import pandas as pd\n",
    "import numpy as np\n",
    "import matplotlib as mpl\n",
    "import pickle\n",
    "import itertools"
   ]
  },
  {
   "cell_type": "code",
   "execution_count": 3,
   "id": "athletic-strand",
   "metadata": {},
   "outputs": [],
   "source": [
    "import tensorflow as tf\n",
    "import tensorflow.keras as keras\n",
    "from tensorflow.keras import layers"
   ]
  },
  {
   "cell_type": "code",
   "execution_count": 2,
   "id": "acquired-willow",
   "metadata": {},
   "outputs": [],
   "source": [
    "def seperateCNN():\n",
    "    input1 = keras.Input(shape=(10, 12, 1))\n",
    "    input2 = keras.Input(shape=(46, 12, 1))\n",
    "\n",
    "    x = layers.Conv2D(filters=16, kernel_size=(2, 12))(input1)  # 9\n",
    "    x = layers.BatchNormalization()(x)\n",
    "    x = keras.activations.relu(x)\n",
    "    x = layers.Conv2D(filters=32, kernel_size=(2, 1))(x)    # 8\n",
    "    x = layers.BatchNormalization()(x)\n",
    "    x = keras.activations.relu(x)\n",
    "    x = layers.MaxPool2D(pool_size=(2, 1), strides=(2, 1))(x)  # 4\n",
    "    x = layers.Flatten()(x)\n",
    "    x = keras.Model(inputs=input1, outputs=x)\n",
    "\n",
    "    y = layers.Conv2D(filters=16, kernel_size=(15, 12))(input2)     # 32\n",
    "    y = layers.BatchNormalization()(y)\n",
    "    y = keras.activations.relu(y)\n",
    "    y = layers.MaxPool2D(pool_size=(2, 1), strides=(2, 1))(y)  # 16\n",
    "    y = layers.Conv2D(filters=32,kernel_size=(9,1))(y)    # 8\n",
    "    y = layers.BatchNormalization()(y)\n",
    "    y = keras.activations.relu(y)\n",
    "    y = layers.MaxPool2D(pool_size=(2, 1),strides=(2,1))(y)  # 4\n",
    "    y = layers.Flatten()(y)\n",
    "    y = keras.Model(inputs=input2,outputs=y)\n",
    "\n",
    "    combined = layers.concatenate([x.output,y.output])\n",
    "    z = layers.Dense(128,activation='relu')(combined)\n",
    "    z = layers.Dropout(0.2)(z)\n",
    "    z = layers.Dense(1,activation='sigmoid')(z)\n",
    "\n",
    "    model = keras.Model(inputs=[input1,input2],outputs=z)\n",
    "    return model\n",
    "\n",
    "def pull_peptide_aaindex(dataset):\n",
    "    result = np.empty([len(dataset),10,12,1])\n",
    "    for i in range(len(dataset)):\n",
    "        result[i,:,:,:] = dataset[i][0]\n",
    "    return result\n",
    "\n",
    "\n",
    "def pull_hla_aaindex(dataset):\n",
    "    result = np.empty([len(dataset),46,12,1])\n",
    "    for i in range(len(dataset)):\n",
    "        result[i,:,:,:] = dataset[i][1]\n",
    "    return result\n",
    "\n",
    "\n",
    "def pull_label_aaindex(dataset):\n",
    "    col = [item[2] for item in dataset]\n",
    "    result = [0 if item == 'Negative' else 1 for item in col]\n",
    "    result = np.expand_dims(np.array(result),axis=1)\n",
    "    return result\n",
    "\n",
    "def pull_label_aaindex(dataset):\n",
    "    result = np.empty([len(dataset),1])\n",
    "    for i in range(len(dataset)):\n",
    "        result[i,:] = dataset[i][2]\n",
    "    return result\n",
    "\n",
    "def aaindex(peptide,after_pca):\n",
    "\n",
    "    amino = 'ARNDCQEGHILKMFPSTWYV-'\n",
    "    matrix = np.transpose(after_pca)   # [12,21]\n",
    "    encoded = np.empty([len(peptide), 12])  # (seq_len,12)\n",
    "    for i in range(len(peptide)):\n",
    "        query = peptide[i]\n",
    "        if query == 'X': query = '-'\n",
    "        query = query.upper()\n",
    "        encoded[i, :] = matrix[:, amino.index(query)]\n",
    "\n",
    "    return encoded\n",
    "\n",
    "# def aaindex(peptide,after_pca):\n",
    "#     amino = 'ARNDCQEGHILKMFPSTWYV-'\n",
    "#     encoded = np.empty([len(peptide),21])\n",
    "#     onehot = np.identity(21)\n",
    "#     for i in range(len(peptide)):\n",
    "#         query = peptide[i]\n",
    "#         if query == 'X': query = '-'\n",
    "#         query = query.upper()\n",
    "#         encoded[i,:] = onehot[:,amino.index(query)]\n",
    "#     return encoded\n",
    "\n",
    "def peptide_data_aaindex(peptide,after_pca):   # return numpy array [10,12,1]\n",
    "    length = len(peptide)\n",
    "    if length == 10:\n",
    "        encode = aaindex(peptide,after_pca)\n",
    "    elif length == 9:\n",
    "        peptide = peptide[:5] + '-' + peptide[5:]\n",
    "        encode = aaindex(peptide,after_pca)\n",
    "    encode = encode.reshape(encode.shape[0], encode.shape[1], -1)\n",
    "    return encode\n",
    "\n",
    "def dict_inventory(inventory):\n",
    "    dicA, dicB, dicC = {}, {}, {}\n",
    "    dic = {'A': dicA, 'B': dicB, 'C': dicC}\n",
    "\n",
    "    for hla in inventory:\n",
    "        type_ = hla[4]  # A,B,C\n",
    "        first2 = hla[6:8]  # 01\n",
    "        last2 = hla[8:]  # 01\n",
    "        try:\n",
    "            dic[type_][first2].append(last2)\n",
    "        except KeyError:\n",
    "            dic[type_][first2] = []\n",
    "            dic[type_][first2].append(last2)\n",
    "\n",
    "    return dic\n",
    "\n",
    "\n",
    "def rescue_unknown_hla(hla, dic_inventory):\n",
    "    type_ = hla[4]\n",
    "    first2 = hla[6:8]\n",
    "    last2 = hla[8:]\n",
    "    big_category = dic_inventory[type_]\n",
    "    #print(hla)\n",
    "    if not big_category.get(first2) == None:\n",
    "        small_category = big_category.get(first2)\n",
    "        distance = [abs(int(last2) - int(i)) for i in small_category]\n",
    "        optimal = min(zip(small_category, distance), key=lambda x: x[1])[0]\n",
    "        return 'HLA-' + str(type_) + '*' + str(first2) + str(optimal)\n",
    "    else:\n",
    "        small_category = list(big_category.keys())\n",
    "        distance = [abs(int(first2) - int(i)) for i in small_category]\n",
    "        optimal = min(zip(small_category, distance), key=lambda x: x[1])[0]\n",
    "        return 'HLA-' + str(type_) + '*' + str(optimal) + str(big_category[optimal][0])\n",
    "\n",
    "\n",
    "\n",
    "\n",
    "\n",
    "\n",
    "def hla_data_aaindex(hla_dic,hla_type,after_pca):    # return numpy array [34,12,1]\n",
    "    try:\n",
    "        seq = hla_dic[hla_type]\n",
    "    except KeyError:\n",
    "        hla_type = rescue_unknown_hla(hla_type,dic_inventory)\n",
    "        seq = hla_dic[hla_type]\n",
    "    encode = aaindex(seq,after_pca)\n",
    "    encode = encode.reshape(encode.shape[0], encode.shape[1], -1)\n",
    "    return encode\n",
    "\n",
    "def construct_aaindex(ori,hla_dic,after_pca):\n",
    "    series = []\n",
    "    for i in range(ori.shape[0]):\n",
    "        peptide = ori['peptide'].iloc[i]\n",
    "        hla_type = ori['HLA'].iloc[i]\n",
    "        immuno = np.array(ori['immunogenicity'].iloc[i]).reshape(1,-1)   # [1,1]\n",
    "\n",
    "        encode_pep = peptide_data_aaindex(peptide,after_pca)    # [10,12]\n",
    "\n",
    "        encode_hla = hla_data_aaindex(hla_dic,hla_type,after_pca)   # [46,12]\n",
    "        series.append((encode_pep, encode_hla, immuno))\n",
    "    return series\n",
    "\n",
    "def hla_df_to_dic(hla):\n",
    "    dic = {}\n",
    "    for i in range(hla.shape[0]):\n",
    "        col1 = hla['HLA'].iloc[i]  # HLA allele\n",
    "        col2 = hla['pseudo'].iloc[i]  # pseudo sequence\n",
    "        dic[col1] = col2\n",
    "    return dic\n",
    "\n",
    "def retain_910(ori):\n",
    "    cond = []\n",
    "    for i in range(ori.shape[0]):\n",
    "        peptide = ori['peptide'].iloc[i]\n",
    "        if len(peptide) == 9 or len(peptide) == 10:\n",
    "            cond.append(True)\n",
    "        else:\n",
    "            cond.append(False)\n",
    "    data = ori.loc[cond]\n",
    "    data = data.set_index(pd.Index(np.arange(data.shape[0])))\n",
    "    return data"
   ]
  },
  {
   "cell_type": "code",
   "execution_count": 40,
   "id": "armed-comment",
   "metadata": {},
   "outputs": [],
   "source": [
    "after_pca = np.loadtxt('../data/after_pca.txt')\n",
    "ori = pd.read_csv('../data/remove0123_sample100.csv')\n",
    "ori = ori.sample(frac=1,replace=False).set_index(pd.Index(np.arange(ori.shape[0])))\n",
    "hla = pd.read_csv('../data/hla2paratopeTable_aligned.txt',sep='\\t')\n",
    "hla_dic = hla_df_to_dic(hla)\n",
    "inventory = list(hla_dic.keys())\n",
    "dic_inventory = dict_inventory(inventory)\n",
    "dataset = construct_aaindex(ori,hla_dic,after_pca)"
   ]
  },
  {
   "cell_type": "code",
   "execution_count": 41,
   "id": "collected-recommendation",
   "metadata": {},
   "outputs": [
    {
     "data": {
      "text/plain": [
       "<tensorflow.python.training.tracking.util.CheckpointLoadStatus at 0x145b9e4e0>"
      ]
     },
     "execution_count": 41,
     "metadata": {},
     "output_type": "execute_result"
    }
   ],
   "source": [
    "cnn_model = seperateCNN()\n",
    "cnn_model.load_weights('../data/models/cnn_model_331_3_7/')"
   ]
  },
  {
   "cell_type": "code",
   "execution_count": 42,
   "id": "three-lesson",
   "metadata": {},
   "outputs": [],
   "source": [
    "new_dataset = []\n",
    "for item in dataset:\n",
    "    if item[2] != 'Negative':\n",
    "        new_dataset.append(item)"
   ]
  },
  {
   "cell_type": "code",
   "execution_count": 36,
   "id": "incorrect-horror",
   "metadata": {},
   "outputs": [],
   "source": [
    "# let's boostrap 100 times, see if the rank holds\n",
    "n = 100\n",
    "position_rank = np.empty([n, 9])\n",
    "for m in range(n):\n",
    "    ind = np.random.choice(np.arange(len(new_dataset)),2000)  # bootstrap 2000 positive samples\n",
    "    sample = [new_dataset[i] for i in ind]  # get samples\n",
    "    input1 = pull_peptide_aaindex(sample)\n",
    "    input2 = pull_hla_aaindex(sample)\n",
    "    pred_ori = cnn_model([input1,input2]).numpy().mean()  # original prediction\n",
    "    array = []  # store all the importance, based on the decrease when eliminating each position\n",
    "    for i in range(10):\n",
    "        if i != 5:\n",
    "            input1[:,i,:,:] = 0\n",
    "            importance = pred_ori - cnn_model([input1,input2]).numpy().mean()\n",
    "            array.append(importance)\n",
    "            input1 = pull_peptide_aaindex(sample)\n",
    "            input2 = pull_hla_aaindex(sample)\n",
    "    ranking = np.argsort(array) + 1   # ascending order\n",
    "    tmp = []\n",
    "    for i in range(9):\n",
    "        tmp.append(list(ranking).index(i+1))\n",
    "    position_rank[m,:] = tmp"
   ]
  },
  {
   "cell_type": "code",
   "execution_count": 37,
   "id": "stainless-surname",
   "metadata": {},
   "outputs": [
    {
     "data": {
      "text/plain": [
       "<matplotlib.legend.Legend at 0x13ef43eb8>"
      ]
     },
     "execution_count": 37,
     "metadata": {},
     "output_type": "execute_result"
    },
    {
     "data": {
      "image/png": "[encoded data removed]",
      "text/plain": [
       "<Figure size 432x288 with 1 Axes>"
      ]
     },
     "metadata": {
      "needs_background": "light"
     },
     "output_type": "display_data"
    }
   ],
   "source": [
    "# start to plot\n",
    "cmap = mpl.cm.get_cmap('tab10')\n",
    "delim = np.linspace(0,1,9)\n",
    "colors = [mpl.colors.rgb2hex(cmap(i)[:3]) for i in delim]\n",
    "from collections import Counter\n",
    "fig,ax = plt.subplots()\n",
    "for i in np.arange(9):\n",
    "    y = list(Counter(position_rank[:,i]+1).keys())\n",
    "    s = list(Counter(position_rank[:,i]+1).values())\n",
    "    ax.scatter([i for n in range(len(y))],y, s=[m*4 for m in s],c=colors[i])\n",
    "ax.set_ylim(0.5,9.5)\n",
    "ax.set_yticks(np.arange(9)+1)\n",
    "ax.set_xticks(np.arange(9))\n",
    "ax.set_xticklabels(['1','2','3','4','5','6','7','8','9'])\n",
    "ax.set_xlabel('Position')\n",
    "ax.set_ylabel('Ranking(ascending)')\n",
    "ax.grid(True,alpha=0.2)\n",
    "h1 = [ax.plot([],[],color='grey',marker='o',markersize=i,ls='')[0] for i in range(8,15,2)]\n",
    "leg1 = ax.legend(handles=h1,labels=[10,40,70,100],title='Frequency',loc='lower left',bbox_to_anchor=(1,0.6),frameon=False)\n",
    "h2 = [ax.plot([],[],color=i,marker='o',markersize=5,ls='')[0] for i in colors]\n",
    "leg2 = ax.legend(handles=h2,labels=['p1','p2','p3','p4','p5','p6','p7','p8','p9'],title='Position',loc='lower left',bbox_to_anchor=(1,0),frameon=False)\n",
    "ax.add_artist(leg1)\n",
    "ax.add_artist(leg2)\n",
    "\n",
    "'''\n",
    "It is worth noting, the figure is not exactly the same as the main manucript because of the stochastic nature of this\n",
    "operation\n",
    "'''"
   ]
  },
  {
   "cell_type": "code",
   "execution_count": 44,
   "id": "republican-startup",
   "metadata": {},
   "outputs": [],
   "source": [
    "new_dataset = []\n",
    "for item in dataset:\n",
    "    if item[2] != 'Negative':\n",
    "        new_dataset.append(item)\n",
    "input1 = pull_peptide_aaindex(new_dataset)\n",
    "input2 = pull_hla_aaindex(new_dataset)\n",
    "# original, no occlusion\n",
    "pred = cnn_model([input1,input2]).numpy()\n",
    "# occlude different position\n",
    "input1[:,(3,4),:,:] = 0\n",
    "decrease_big = pred - cnn_model([input1,input2]).numpy()\n"
   ]
  },
  {
   "cell_type": "code",
   "execution_count": 45,
   "id": "unknown-wheel",
   "metadata": {},
   "outputs": [],
   "source": [
    "new_dataset = []\n",
    "for item in dataset:\n",
    "    if item[2] != 'Negative':\n",
    "        new_dataset.append(item)\n",
    "input1 = pull_peptide_aaindex(new_dataset)\n",
    "input2 = pull_hla_aaindex(new_dataset)\n",
    "# original, no occlusion\n",
    "pred = cnn_model([input1,input2]).numpy()\n",
    "input1[:,(0,2),:,:] = 0\n",
    "decrease_small = pred - cnn_model([input1, input2]).numpy()"
   ]
  },
  {
   "cell_type": "code",
   "execution_count": 46,
   "id": "ancient-polymer",
   "metadata": {},
   "outputs": [
    {
     "name": "stdout",
     "output_type": "stream",
     "text": [
      "MannwhitneyuResult(statistic=11478578.5, pvalue=3.247749859849883e-207)\n"
     ]
    },
    {
     "data": {
      "text/plain": [
       "Text(0, 0.5, 'Performance Drop')"
      ]
     },
     "execution_count": 46,
     "metadata": {},
     "output_type": "execute_result"
    },
    {
     "data": {
      "image/png": "[encoded data removed]",
      "text/plain": [
       "<Figure size 432x288 with 1 Axes>"
      ]
     },
     "metadata": {
      "needs_background": "light"
     },
     "output_type": "display_data"
    }
   ],
   "source": [
    "from scipy.stats import mannwhitneyu\n",
    "print(mannwhitneyu(decrease_big,decrease_small,alternative='greater'))\n",
    "fig,ax = plt.subplots()\n",
    "bp = ax.boxplot([decrease_big[:,0],decrease_small[:,0]],patch_artist=True)\n",
    "for flier in bp['fliers']:\n",
    "    flier.set(markersize=1.5)\n",
    "for box in bp['boxes']:\n",
    "    box.set(facecolor='#087E8B',alpha=0.6,linewidth=1)\n",
    "for median in bp['medians']:\n",
    "    median.set(color='black',linewidth=1)\n",
    "ax.set_xticklabels(['Occlude P4&P5', 'Occlude P3&P1'])\n",
    "ax.set_ylabel('Performance Drop')"
   ]
  },
  {
   "cell_type": "code",
   "execution_count": null,
   "id": "charming-matter",
   "metadata": {},
   "outputs": [],
   "source": []
  }
 ],
 "metadata": {
  "kernelspec": {
   "display_name": "Python 3",
   "language": "python",
   "name": "python3"
  },
  "language_info": {
   "codemirror_mode": {
    "name": "ipython",
    "version": 3
   },
   "file_extension": ".py",
   "mimetype": "text/x-python",
   "name": "python",
   "nbconvert_exporter": "python",
   "pygments_lexer": "ipython3",
   "version": "3.6.11"
  }
 },
 "nbformat": 4,
 "nbformat_minor": 5
}
