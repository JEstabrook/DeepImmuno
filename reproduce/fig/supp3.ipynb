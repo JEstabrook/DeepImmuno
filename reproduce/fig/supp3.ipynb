{
 "cells": [
  {
   "cell_type": "code",
   "execution_count": 12,
   "id": "arabic-sauce",
   "metadata": {},
   "outputs": [],
   "source": [
    "%matplotlib inline\n",
    "import matplotlib.pyplot as plt\n",
    "import pandas as pd\n",
    "import numpy as np\n",
    "import matplotlib as mpl\n",
    "import pickle\n",
    "import itertools"
   ]
  },
  {
   "cell_type": "code",
   "execution_count": 3,
   "id": "second-specialist",
   "metadata": {},
   "outputs": [],
   "source": [
    "mpl.rcParams['pdf.fonttype'] = 42\n",
    "mpl.rcParams['ps.fonttype'] = 42\n",
    "mpl.rcParams['font.family'] = 'Arial'"
   ]
  },
  {
   "cell_type": "code",
   "execution_count": 4,
   "id": "reflected-liberty",
   "metadata": {},
   "outputs": [],
   "source": [
    "def pick_covid_result1(covid):\n",
    "    return [item[0] for item in covid]\n",
    "def pick_covid_result2(covid):\n",
    "    return [item[1] for item in covid]\n",
    "def pick_covid_result3(covid):\n",
    "    return [item[2] for item in covid]\n",
    "def pick_covid_result4(covid):\n",
    "    return [item[3] for item in covid]\n",
    "\n",
    "def pick_cell_result1(cell):\n",
    "    return [item[0] for item in cell]\n",
    "def pick_cell_result2(cell):\n",
    "    return [item[1] for item in cell]\n",
    "def pick_cell_result3(cell):\n",
    "    return [item[2] for item in cell]"
   ]
  },
  {
   "cell_type": "code",
   "execution_count": 5,
   "id": "stainless-citizenship",
   "metadata": {},
   "outputs": [],
   "source": [
    "'''\n",
    "Regarding the detail codes for generating the pickle objects which store the information,\n",
    "plese refer to /src/CNN_aaindex.py line 503-789\n",
    "'''\n",
    "\n",
    "with open('../data/benchmark/aaindex_paratope/holding_ML_real.p','rb') as f:\n",
    "    ap_ML = pickle.load(f)\n",
    "with open('../data/benchmark/onehot_paratope/holding_ML_real_onehot.p','rb') as f:\n",
    "    op_ML = pickle.load(f)\n",
    "with open('../data/benchmark/aaindex_pseudo/holding_ML_real_aa_pseudo.p','rb') as f:\n",
    "    aps_ML = pickle.load(f)\n",
    "\n",
    "with open('../data/benchmark/aaindex_paratope/holding_CNN.p','rb') as f:\n",
    "    ap_CNN = pickle.load(f)\n",
    "with open('../data/benchmark/onehot_paratope/holding_CNN_onehot.p','rb') as f:\n",
    "    op_CNN = pickle.load(f)\n",
    "with open('../data/benchmark/aaindex_pseudo/holding_CNN_aa_pseudo.p','rb') as f:\n",
    "    aps_CNN = pickle.load(f)\n",
    "\n",
    "with open('../data/benchmark/aaindex_paratope/holding_reslike.p','rb') as f:\n",
    "    ap_res = pickle.load(f)\n",
    "with open('../data/benchmark/onehot_paratope/holding_reslike_onehot.p','rb') as f:\n",
    "    op_res = pickle.load(f)\n",
    "with open('../data/benchmark/aaindex_pseudo/holding_reslike_aa_pseudo.p','rb') as f:\n",
    "    aps_res = pickle.load(f)"
   ]
  },
  {
   "cell_type": "code",
   "execution_count": 6,
   "id": "awful-hormone",
   "metadata": {},
   "outputs": [],
   "source": [
    "ap = np.linspace(1,33,9).astype(np.int)\n",
    "op = np.linspace(2,34,9).astype(np.int)\n",
    "aps = np.linspace(3,35,9).astype(np.int)"
   ]
  },
  {
   "cell_type": "code",
   "execution_count": 7,
   "id": "attended-planning",
   "metadata": {},
   "outputs": [],
   "source": [
    "def get_positions(inp):\n",
    "    return list(itertools.chain.from_iterable(itertools.repeat(x,10) for x in inp))"
   ]
  },
  {
   "cell_type": "code",
   "execution_count": 8,
   "id": "fossil-tunisia",
   "metadata": {},
   "outputs": [],
   "source": [
    "def main_plot_ML(ax,model,s=3):\n",
    "\n",
    "    #ax.set_title(model,fontsize=13)\n",
    "    ph = ap_ML[model]\n",
    "    ax.scatter(x=get_positions(ap[0:7]),y=ph['validation'] + ph['dengue'] + pick_cell_result1(ph['cell']) +\n",
    "                                    pick_covid_result1(ph['covid']) + pick_covid_result2(ph['covid']) +\n",
    "                                    pick_covid_result3(ph['covid']) + pick_covid_result4(ph['covid']),c='k',s=s)\n",
    "    ph = op_ML[model]\n",
    "    ax.scatter(x=get_positions(op[0:7]),y=ph['validation'] + ph['dengue'] + pick_cell_result1(ph['cell']) +\n",
    "                                    pick_covid_result1(ph['covid']) + pick_covid_result2(ph['covid']) +\n",
    "                                    pick_covid_result3(ph['covid']) + pick_covid_result4(ph['covid']),c='r',s=s)\n",
    "    ph = aps_ML[model]\n",
    "    ax.scatter(x=get_positions(aps[0:7]),y=ph['validation'] + ph['dengue'] + pick_cell_result1(ph['cell']) +\n",
    "                                    pick_covid_result1(ph['covid']) + pick_covid_result2(ph['covid']) +\n",
    "                                    pick_covid_result3(ph['covid']) + pick_covid_result4(ph['covid']),c='orange',s=s)\n",
    "    ax1 = ax.twinx()\n",
    "    ax1.set_ylim([0,12])\n",
    "    ph = ap_ML[model]\n",
    "    ax1.scatter(x=get_positions(ap[7:]),y=pick_cell_result2(ph['cell']) + pick_cell_result3(ph['cell']), c='k',s=s)\n",
    "    ph = op_ML[model]\n",
    "    ax1.scatter(x=get_positions(op[7:]),y=pick_cell_result2(ph['cell']) + pick_cell_result3(ph['cell']), c='r',s=s)\n",
    "    ph = aps_ML[model]\n",
    "    ax1.scatter(x=get_positions(aps[7:]),y=pick_cell_result2(ph['cell']) + pick_cell_result3(ph['cell']), c='orange',s=s)\n",
    "\n",
    "    ax.set_xticks(np.linspace(2,34,9).astype(np.int))\n",
    "    ax.set_xticklabels(['validation','dengue','neoantigen_R','con-R','un-R','con-P','un-P','top20','top50'],rotation=60,\n",
    "                       fontsize=4)\n",
    "    ax.tick_params(axis='y',labelsize=2)\n",
    "    ax1.tick_params(axis='y',labelsize=2)"
   ]
  },
  {
   "cell_type": "code",
   "execution_count": 9,
   "id": "neither-salmon",
   "metadata": {},
   "outputs": [],
   "source": [
    "def main_plot_CNN(ax,s=3):\n",
    "\n",
    "    #ax.set_title('CNN',fontsize=13)\n",
    "    ph = ap_CNN\n",
    "    ax.scatter(x=get_positions(ap[0:7]),y=ph['validation'] + ph['dengue'] + pick_cell_result1(ph['cell']) +\n",
    "                                    pick_covid_result1(ph['covid']) + pick_covid_result2(ph['covid']) +\n",
    "                                    pick_covid_result3(ph['covid']) + pick_covid_result4(ph['covid']),c='k',s=s)\n",
    "    ph = op_CNN\n",
    "    ax.scatter(x=get_positions(op[0:7]),y=ph['validation'] + ph['dengue'] + pick_cell_result1(ph['cell']) +\n",
    "                                    pick_covid_result1(ph['covid']) + pick_covid_result2(ph['covid']) +\n",
    "                                    pick_covid_result3(ph['covid']) + pick_covid_result4(ph['covid']),c='r',s=s)\n",
    "    ph = aps_CNN\n",
    "    ax.scatter(x=get_positions(aps[0:7]),y=ph['validation'] + ph['dengue'] + pick_cell_result1(ph['cell']) +\n",
    "                                    pick_covid_result1(ph['covid']) + pick_covid_result2(ph['covid']) +\n",
    "                                    pick_covid_result3(ph['covid']) + pick_covid_result4(ph['covid']),c='orange',s=s)\n",
    "    ax1 = ax.twinx()\n",
    "    ax1.set_ylim([0,12])\n",
    "    ph = ap_CNN\n",
    "    ax1.scatter(x=get_positions(ap[7:]),y=pick_cell_result2(ph['cell']) + pick_cell_result3(ph['cell']), c='k',s=s)\n",
    "    ph = op_CNN\n",
    "    ax1.scatter(x=get_positions(op[7:]),y=pick_cell_result2(ph['cell']) + pick_cell_result3(ph['cell']), c='r',s=s)\n",
    "    ph = aps_CNN\n",
    "    ax1.scatter(x=get_positions(aps[7:]),y=pick_cell_result2(ph['cell']) + pick_cell_result3(ph['cell']), c='orange',s=s)\n",
    "\n",
    "    ax.set_xticks(np.linspace(2,34,9).astype(np.int))\n",
    "    ax.set_xticklabels(['validation','dengue','neoantigen_R','con-R','un-R','con-P','un-P','top20','top50'],rotation=60,\n",
    "                       fontsize=4)\n",
    "    ax.tick_params(axis='y',labelsize=2)\n",
    "    ax1.tick_params(axis='y',labelsize=2)"
   ]
  },
  {
   "cell_type": "code",
   "execution_count": 10,
   "id": "commercial-cologne",
   "metadata": {},
   "outputs": [],
   "source": [
    "def main_plot_reslike(ax,s=3):\n",
    "\n",
    "    #ax.set_title('ResLike',fontsize=13)\n",
    "    ph = ap_res\n",
    "    ax.scatter(x=get_positions(ap[0:7]),y=ph['validation'] + ph['dengue'] + pick_cell_result1(ph['cell']) +\n",
    "                                    pick_covid_result1(ph['covid']) + pick_covid_result2(ph['covid']) +\n",
    "                                    pick_covid_result3(ph['covid']) + pick_covid_result4(ph['covid']),c='k',s=s)\n",
    "    ph = op_res\n",
    "    ax.scatter(x=get_positions(op[0:7]),y=ph['validation'] + ph['dengue'] + pick_cell_result1(ph['cell']) +\n",
    "                                    pick_covid_result1(ph['covid']) + pick_covid_result2(ph['covid']) +\n",
    "                                    pick_covid_result3(ph['covid']) + pick_covid_result4(ph['covid']),c='r',s=s)\n",
    "    ph = aps_res\n",
    "    ax.scatter(x=get_positions(aps[0:7]),y=ph['validation'] + ph['dengue'] + pick_cell_result1(ph['cell']) +\n",
    "                                    pick_covid_result1(ph['covid']) + pick_covid_result2(ph['covid']) +\n",
    "                                    pick_covid_result3(ph['covid']) + pick_covid_result4(ph['covid']),c='orange',s=s)\n",
    "    ax1 = ax.twinx()\n",
    "    ax1.set_ylim([0,12])\n",
    "    ph = ap_res\n",
    "    ax1.scatter(x=get_positions(ap[7:]),y=pick_cell_result2(ph['cell']) + pick_cell_result3(ph['cell']), c='k',s=s)\n",
    "    ph = op_res\n",
    "    ax1.scatter(x=get_positions(op[7:]),y=pick_cell_result2(ph['cell']) + pick_cell_result3(ph['cell']), c='r',s=s)\n",
    "    ph = aps_res\n",
    "    ax1.scatter(x=get_positions(aps[7:]),y=pick_cell_result2(ph['cell']) + pick_cell_result3(ph['cell']), c='orange',s=s)\n",
    "\n",
    "    ax.set_xticks(np.linspace(2,34,9).astype(np.int))\n",
    "    ax.set_xticklabels(['validation','dengue','neoantigen_R','con-R','un-R','con-P','un-P','top20','top50'],rotation=60,\n",
    "                       fontsize=4)\n",
    "    ax.tick_params(axis='y',labelsize=2)\n",
    "    ax1.tick_params(axis='y',labelsize=2)"
   ]
  },
  {
   "cell_type": "code",
   "execution_count": 13,
   "id": "compliant-shakespeare",
   "metadata": {},
   "outputs": [
    {
     "data": {
      "text/plain": [
       "(-0.05500000000000001,\n",
       " 0.05500000000000001,\n",
       " -0.05500000000000001,\n",
       " 0.05500000000000001)"
      ]
     },
     "execution_count": 13,
     "metadata": {},
     "output_type": "execute_result"
    },
    {
     "data": {
      "image/png": "[encoded data removed]",
      "text/plain": [
       "<Figure size 691.2x518.4 with 15 Axes>"
      ]
     },
     "metadata": {
      "needs_background": "light"
     },
     "output_type": "display_data"
    }
   ],
   "source": [
    "fig,ax = plt.subplots(2,4,figsize=(9.6,7.2))\n",
    "main_plot_ML(ax[0,0],'elasticnet')\n",
    "main_plot_ML(ax[0,1],'KNN')\n",
    "main_plot_ML(ax[0,2],'SVR')\n",
    "main_plot_ML(ax[1,0],'randomforest')\n",
    "main_plot_ML(ax[1,1],'adaboost')\n",
    "\n",
    "main_plot_CNN(ax[1,2])\n",
    "main_plot_reslike(ax[1,3])\n",
    "\n",
    "\n",
    "h2 = [ax[0,3].plot([],[],color=i,marker='o',ls='',markersize=5)[0] for i in ['black','red','orange']]\n",
    "ax[0,3].legend(handles=h2,labels=['AAindex + Paratopes', 'Onehot + Paratopes', 'AAindex + HLA_Pseudo34'],frameon=False,fontsize=5)\n",
    "ax[0,3].axis('off')"
   ]
  },
  {
   "cell_type": "code",
   "execution_count": null,
   "id": "sealed-convert",
   "metadata": {},
   "outputs": [],
   "source": []
  }
 ],
 "metadata": {
  "kernelspec": {
   "display_name": "Python 3",
   "language": "python",
   "name": "python3"
  },
  "language_info": {
   "codemirror_mode": {
    "name": "ipython",
    "version": 3
   },
   "file_extension": ".py",
   "mimetype": "text/x-python",
   "name": "python",
   "nbconvert_exporter": "python",
   "pygments_lexer": "ipython3",
   "version": "3.6.11"
  }
 },
 "nbformat": 4,
 "nbformat_minor": 5
}
